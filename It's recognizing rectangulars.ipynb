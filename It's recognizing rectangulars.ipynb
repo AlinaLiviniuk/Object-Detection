{
 "cells": [
  {
   "cell_type": "code",
   "execution_count": 1,
   "metadata": {},
   "outputs": [
    {
     "name": "stderr",
     "output_type": "stream",
     "text": [
      "‘ЁбвҐ¬Ґ ­Ґ г¤ Ґвбп ­ ©вЁ гЄ § ­­л© Їгвм.\n"
     ]
    }
   ],
   "source": [
    "!/usr/bin/env python\n",
    "\n",
    "import sys\n",
    "\n",
    "PY3 = sys.version_info[0] == 3\n",
    "\n",
    "if PY3:\n",
    "    xrange = range\n",
    "\n",
    "import numpy as np\n",
    "import cv2\n",
    "import matplotlib.pyplot as plt\n",
    "import time, pickle #standard pythonic things. #picle is used to save objects to disk\n",
    "import signal, datetime, time "
   ]
  },
  {
   "cell_type": "code",
   "execution_count": 2,
   "metadata": {
    "collapsed": true
   },
   "outputs": [],
   "source": [
    "vc = cv2.VideoCapture(1) #0 for the first webcam, 1 for the second. This is V4L\""
   ]
  },
  {
   "cell_type": "code",
   "execution_count": 3,
   "metadata": {
    "collapsed": true
   },
   "outputs": [],
   "source": [
    "def angle_cos(p0, p1, p2):\n",
    "    d1, d2 = (p0 - p1).astype ('float'), (p2 - p1).astype ('float')\n",
    "    return abs (np.dot (d1, d2) / np.sqrt (np.dot (d1, d1) * np.dot (d2, d2)))\n",
    "\n",
    "def signal_handler(signal, frame):\n",
    "    # KeyboardInterrupt detected, exiting\n",
    "    global is_interrupted\n",
    "    is_interrupted = True\n",
    "\n",
    "def imshow(frame, from_color_space='bgr'): #show a picture from webcam\n",
    "    plt.figure()\n",
    "    if from_color_space == 'bgr':\n",
    "        rgb_frame = cv2.cvtColor(frame, cv2.COLOR_BGR2RGB)    # makes the blues image look real colored\n",
    "    elif from_color_space == 'hsv':\n",
    "        rgb_frame = cv2.cvtColor(frame, cv2.COLOR_HSV2RGB)    # makes the hsv image look real colored\n",
    "    else:\n",
    "        rgb_frame=frame\n",
    "    return plt.imshow(rgb_frame)\n",
    "\n",
    "\n",
    "def get_frame(): #get a picture from webcam\n",
    "    timeout = time.time() + 0.1\n",
    "    while time.time() < timeout:\n",
    "        if vc.isOpened(): # try to get the first frame\n",
    "            is_capturing, frame = vc.read()\n",
    "       # else:\n",
    "        #    raise (Exception(\"Unable to capture\"))\n",
    "    cv2.imwrite(\"photo.png\".format(datetime.datetime.now()), frame)\n",
    "    return frame\n",
    "\n",
    "def find_squares(img):\n",
    "    img = cv2.GaussianBlur (img, (5, 5), 0)\n",
    "    hsv = cv2.cvtColor (img, cv2.COLOR_BGR2HSV)\n",
    "    img = cv2.inRange (hsv, (5, 50, 50), (15, 255, 255))\n",
    "    squares = []\n",
    "    pts = []\n",
    "    \n",
    "    for gray in cv2.split (img):\n",
    "        for thrs in xrange (0, 255, 26):\n",
    "            if thrs == 0:\n",
    "                bin = cv2.Canny (gray, 0, 50, apertureSize=5)\n",
    "                bin = cv2.dilate (bin, None)\n",
    "                cv2.imshow ('sq', bin)\n",
    "            else:\n",
    "                _retval, bin = cv2.threshold (gray, thrs, 255, cv2.THRESH_BINARY)\n",
    "            bin, contours, _hierarchy = cv2.findContours (bin, cv2.RETR_LIST, cv2.CHAIN_APPROX_SIMPLE)\n",
    "                #contours = cv2.findContours (bin, cv2.RETR_LIST, cv2.CHAIN_APPROX_SIMPLE)               \n",
    "            for cnt in contours:\n",
    "                cnt_len = cv2.arcLength (cnt, True)\n",
    "                cnt = cv2.approxPolyDP (cnt, 0.02 * cnt_len, True)\n",
    "                if len (cnt) == 4 and cv2.contourArea (cnt) > 400 and cv2.isContourConvex (cnt):\n",
    "                    cnt = cnt.reshape (-1, 2)\n",
    "                    max_cos = np.max ([angle_cos (cnt[i], cnt[(i + 1) % 4], cnt[(i + 2) % 4]) for i in xrange (4)])\n",
    "                    if max_cos < 0.1:\n",
    "                        squares.append (cnt)\n",
    "    return squares"
   ]
  },
  {
   "cell_type": "code",
   "execution_count": 4,
   "metadata": {},
   "outputs": [
    {
     "ename": "KeyboardInterrupt",
     "evalue": "",
     "output_type": "error",
     "traceback": [
      "\u001b[1;31m---------------------------------------------------------------------------\u001b[0m",
      "\u001b[1;31mKeyboardInterrupt\u001b[0m                         Traceback (most recent call last)",
      "\u001b[1;32m<ipython-input-4-f602217eeb8e>\u001b[0m in \u001b[0;36m<module>\u001b[1;34m()\u001b[0m\n\u001b[0;32m      1\u001b[0m \u001b[1;32mwhile\u001b[0m \u001b[1;32mTrue\u001b[0m\u001b[1;33m:\u001b[0m\u001b[1;33m\u001b[0m\u001b[0m\n\u001b[0;32m      2\u001b[0m     \u001b[1;31m#img = cv2.imread('photo.png')\u001b[0m\u001b[1;33m\u001b[0m\u001b[1;33m\u001b[0m\u001b[0m\n\u001b[1;32m----> 3\u001b[1;33m     \u001b[0mimg\u001b[0m \u001b[1;33m=\u001b[0m \u001b[0mget_frame\u001b[0m\u001b[1;33m(\u001b[0m\u001b[1;33m)\u001b[0m\u001b[1;33m\u001b[0m\u001b[0m\n\u001b[0m\u001b[0;32m      4\u001b[0m     \u001b[0msquares\u001b[0m \u001b[1;33m=\u001b[0m \u001b[0mfind_squares\u001b[0m \u001b[1;33m(\u001b[0m\u001b[0mimg\u001b[0m\u001b[1;33m)\u001b[0m\u001b[1;33m\u001b[0m\u001b[0m\n\u001b[0;32m      5\u001b[0m     \u001b[0mcv2\u001b[0m\u001b[1;33m.\u001b[0m\u001b[0mdrawContours\u001b[0m \u001b[1;33m(\u001b[0m\u001b[0mimg\u001b[0m\u001b[1;33m,\u001b[0m \u001b[0msquares\u001b[0m\u001b[1;33m,\u001b[0m \u001b[1;33m-\u001b[0m\u001b[1;36m1\u001b[0m\u001b[1;33m,\u001b[0m \u001b[1;33m(\u001b[0m\u001b[1;36m0\u001b[0m\u001b[1;33m,\u001b[0m \u001b[1;36m255\u001b[0m\u001b[1;33m,\u001b[0m \u001b[1;36m0\u001b[0m\u001b[1;33m)\u001b[0m\u001b[1;33m,\u001b[0m \u001b[1;36m3\u001b[0m\u001b[1;33m)\u001b[0m\u001b[1;33m\u001b[0m\u001b[0m\n",
      "\u001b[1;32m<ipython-input-3-a35f4546a726>\u001b[0m in \u001b[0;36mget_frame\u001b[1;34m()\u001b[0m\n\u001b[0;32m     23\u001b[0m     \u001b[1;32mwhile\u001b[0m \u001b[0mtime\u001b[0m\u001b[1;33m.\u001b[0m\u001b[0mtime\u001b[0m\u001b[1;33m(\u001b[0m\u001b[1;33m)\u001b[0m \u001b[1;33m<\u001b[0m \u001b[0mtimeout\u001b[0m\u001b[1;33m:\u001b[0m\u001b[1;33m\u001b[0m\u001b[0m\n\u001b[0;32m     24\u001b[0m         \u001b[1;32mif\u001b[0m \u001b[0mvc\u001b[0m\u001b[1;33m.\u001b[0m\u001b[0misOpened\u001b[0m\u001b[1;33m(\u001b[0m\u001b[1;33m)\u001b[0m\u001b[1;33m:\u001b[0m \u001b[1;31m# try to get the first frame\u001b[0m\u001b[1;33m\u001b[0m\u001b[0m\n\u001b[1;32m---> 25\u001b[1;33m             \u001b[0mis_capturing\u001b[0m\u001b[1;33m,\u001b[0m \u001b[0mframe\u001b[0m \u001b[1;33m=\u001b[0m \u001b[0mvc\u001b[0m\u001b[1;33m.\u001b[0m\u001b[0mread\u001b[0m\u001b[1;33m(\u001b[0m\u001b[1;33m)\u001b[0m\u001b[1;33m\u001b[0m\u001b[0m\n\u001b[0m\u001b[0;32m     26\u001b[0m        \u001b[1;31m# else:\u001b[0m\u001b[1;33m\u001b[0m\u001b[1;33m\u001b[0m\u001b[0m\n\u001b[0;32m     27\u001b[0m         \u001b[1;31m#    raise (Exception(\"Unable to capture\"))\u001b[0m\u001b[1;33m\u001b[0m\u001b[1;33m\u001b[0m\u001b[0m\n",
      "\u001b[1;31mKeyboardInterrupt\u001b[0m: "
     ]
    }
   ],
   "source": [
    "while True:\n",
    "    #img = cv2.imread('photo.png')\n",
    "    img = get_frame()\n",
    "    squares = find_squares (img)\n",
    "    cv2.drawContours (img, squares, -1, (0, 255, 0), 3)\n",
    "    cv2.imshow ('sq', img)\n",
    "    ch = cv2.waitKey (1)\n",
    "if ch == 27:\n",
    "    break\n",
    "cv2.destroyAllWindows ()"
   ]
  },
  {
   "cell_type": "code",
   "execution_count": null,
   "metadata": {
    "collapsed": true
   },
   "outputs": [],
   "source": [
    "cv2.destroyAllWindows ()"
   ]
  },
  {
   "cell_type": "code",
   "execution_count": null,
   "metadata": {
    "collapsed": true
   },
   "outputs": [],
   "source": []
  },
  {
   "cell_type": "code",
   "execution_count": null,
   "metadata": {
    "collapsed": true
   },
   "outputs": [],
   "source": []
  },
  {
   "cell_type": "code",
   "execution_count": null,
   "metadata": {
    "collapsed": true
   },
   "outputs": [],
   "source": []
  },
  {
   "cell_type": "code",
   "execution_count": null,
   "metadata": {
    "collapsed": true
   },
   "outputs": [],
   "source": []
  },
  {
   "cell_type": "code",
   "execution_count": null,
   "metadata": {
    "collapsed": true
   },
   "outputs": [],
   "source": []
  },
  {
   "cell_type": "code",
   "execution_count": null,
   "metadata": {
    "collapsed": true
   },
   "outputs": [],
   "source": []
  }
 ],
 "metadata": {
  "kernelspec": {
   "display_name": "Python 3",
   "language": "python",
   "name": "python3"
  },
  "language_info": {
   "codemirror_mode": {
    "name": "ipython",
    "version": 3
   },
   "file_extension": ".py",
   "mimetype": "text/x-python",
   "name": "python",
   "nbconvert_exporter": "python",
   "pygments_lexer": "ipython3",
   "version": "3.6.6"
  }
 },
 "nbformat": 4,
 "nbformat_minor": 2
}
